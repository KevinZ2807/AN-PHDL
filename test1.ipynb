{
 "cells": [
  {
   "cell_type": "markdown",
   "metadata": {},
   "source": [
    "* i.    Key mã hóa (password) do người dùng nhập vào được hash thành 1 chuỗi tối thiểu 100bit.\n",
    "\n"
   ]
  },
  {
   "cell_type": "code",
   "execution_count": 134,
   "metadata": {},
   "outputs": [
    {
     "name": "stdout",
     "output_type": "stream",
     "text": [
      "Password: 20127218\n",
      "Hashed Password: f3a72263955a4e4cbfc1188c1e15ac9ed74e74da34efa6befc9bd0ff28e2a34631991a0dca58bcb5686a60cd44d9c778ef94d71555fe663190e79bf491f1d01f\n"
     ]
    }
   ],
   "source": [
    "import hashlib\n",
    "\n",
    "#InputPassword = \"20127218\"\n",
    "#InputPassword2 = \"20127295\"\n",
    "\n",
    "# Đọc mật khẩu\n",
    "rf = open('readpassword.txt', 'r')\n",
    "InputPassword = rf.read()\n",
    "rf.close()\n",
    "\n",
    "HashPassword = hashlib.sha512(InputPassword.encode()).hexdigest() # Dùng thuật toán băm SHA-512 để băm mật khẩu ra thành chuỗi 512 bit\n",
    "\n",
    "#hashed_password_100_bits = hashed_password[:100 // 4] # Trong trường hợp mật khẩu cần đúng 100bit\n",
    "\n",
    "def PrintOutEncryptedPassword(CustomPassword, EncryptedPassword):\n",
    "    print(\"Password:\", CustomPassword)\n",
    "    print(\"Hashed Password:\", EncryptedPassword)\n",
    "\n",
    "PrintOutEncryptedPassword(InputPassword, HashPassword)\n",
    "\n",
    "# Ghi mật khẩu đã hash vào file\n",
    "wf = open('encryptedpassword.txt', 'w')\n",
    "wf.write(HashPassword)\n",
    "wf.close()\n"
   ]
  },
  {
   "cell_type": "markdown",
   "metadata": {},
   "source": [
    "ii.   Việc mã hóa /giải mã phải nhanh (thời gian giải mã trong RAM phải ở mức real time).\n",
    "\n",
    "iii.  Tuy cùng 1 key mã hóa nhưng mỗi lần mã sẽ /phải được một kết quả khác nhau (về cả chiều dài lẫn nội dung nhị phân).\n",
    "\n"
   ]
  },
  {
   "cell_type": "code",
   "execution_count": 135,
   "metadata": {},
   "outputs": [],
   "source": [
    "def Adding_pkcs7Padding(data, BlockSize):\n",
    "    PaddingLength = BlockSize - len(data) % BlockSize\n",
    "    padding = bytes([PaddingLength] * PaddingLength)\n",
    "    return data + padding\n",
    "\n",
    "def Removing_pkcs7Padding(data):\n",
    "    PaddingLength = data[-1]\n",
    "    if not all(x == PaddingLength for x in data[-PaddingLength:]):\n",
    "        raise ValueError(\"Invalid PKCS#7 padding\")\n",
    "    \n",
    "    return data[:-PaddingLength]"
   ]
  },
  {
   "cell_type": "code",
   "execution_count": 136,
   "metadata": {},
   "outputs": [
    {
     "name": "stdout",
     "output_type": "stream",
     "text": [
      "Original Password: 20127218\n",
      "Hashed Password: f3a72263955a4e4cbfc1188c1e15ac9ed74e74da34efa6befc9bd0ff28e2a34631991a0dca58bcb5686a60cd44d9c778ef94d71555fe663190e79bf491f1d01f\n",
      "Encrypted Data: b'\\xe0\\xf6\\xd7\\xbb\\x85\\x82_^\\xe8\\x84Wa\\xc6E\\xd5r-\\x17^\\x1a\\xc3\\xf1\\x9a%\\x82\\x13\\x9b@Ar9\\x85\\xe3\\xaa\\xe6\\xf2\\xdbN\\\\\\xcb\\x15\\xa6\\xa9\\x9a\\xef\\xb3Y\\xbb\\xdf*(]\\x9f\\x02\\xc0S\\xa3?\\xce\\x15R\\x93w/\\xbe\\x97W\\x91b\\xa8\\x96\\xba\\xa6I\\xb8V\\x91\\xb7\\x12w\\xcb\\xfd\\xaf\\xb2X\\x03k\\x18MV\\x1cR\\xfe\\xdb\\xd6WH\\xe3\\x0c\\x8dj\\xdf\\xafuc\\xd2(\\x97\\xf7*o4\\xdc\\xdc\\xf3\\xc7n\\xdf\\xac\\x07\\x9e$\\xdf\\x94\\x9dz0(\\xa5LW.\\xb2\\x12wj\\x82\"\\t7\\xae\\xd3+$'\n",
      "Decrypted Data: b'f3a72263955a4e4cbfc1188c1e15ac9ed74e74da34efa6befc9bd0ff28e2a34631991a0dca58bcb5686a60cd44d9c778ef94d71555fe663190e79bf491f1d01f'\n"
     ]
    }
   ],
   "source": [
    "from Crypto.Cipher import AES\n",
    "from Crypto.Random import get_random_bytes\n",
    "from Crypto.Util.Padding import pad, unpad\n",
    "\n",
    "# Khởi tạo khóa và IV (Initialization Vector)\n",
    "key = b'Meow'   # 128-bit key\n",
    "PaddedKey = Adding_pkcs7Padding (key,16)\n",
    "\n",
    "iv = get_random_bytes(16)   # 128-bit IV\n",
    "data = HashPassword.encode()\n",
    "PaddedData = Adding_pkcs7Padding (data,16)\n",
    "\n",
    "# Create AES cipher\n",
    "cipher = AES.new(PaddedKey, AES.MODE_CBC, iv)\n",
    "\n",
    "# Encrypt\n",
    "EncryptedData = cipher.encrypt(PaddedData) \n",
    "\n",
    "# Decrypt\n",
    "decipher = AES.new(PaddedKey, AES.MODE_CBC, iv)\n",
    "decrypted_data = Removing_pkcs7Padding(decipher.decrypt(EncryptedData))\n",
    "\n",
    "print(\"Original Password:\", InputPassword)\n",
    "print(\"Hashed Password:\", HashPassword)\n",
    "print(\"Encrypted Data:\", EncryptedData)\n",
    "print(\"Decrypted Data:\", decrypted_data)\n"
   ]
  },
  {
   "cell_type": "markdown",
   "metadata": {},
   "source": [
    "v.   Mỗi khi chương trình chạy phải hỏi và kiểm tra 1 mật khẩu \"động\" và nếu đúng thì mới tiếp tục chạy.\n",
    "\n"
   ]
  },
  {
   "cell_type": "code",
   "execution_count": 138,
   "metadata": {},
   "outputs": [
    {
     "name": "stdout",
     "output_type": "stream",
     "text": [
      "Mã OTP hiện tại: 842691\n",
      "Mã OTP hợp lệ.\n"
     ]
    }
   ],
   "source": [
    "import pyotp\n",
    "import base64\n",
    "\n",
    "shared_secret = b'KietNgu'\n",
    "\n",
    "shared_secret_base32 = base64.b32encode(shared_secret)\n",
    "\n",
    "totp = pyotp.TOTP(shared_secret_base32)\n",
    "otp = totp.now()\n",
    "print(\"Mã OTP hiện tại:\", otp)\n",
    "\n",
    "# UI:\n",
    "user_provided_code = input(\"Nhập mã OTP từ ứng dụng Authenticator: \")\n",
    "if totp.verify(user_provided_code):\n",
    "    print(\"Mã OTP hợp lệ.\")\n",
    "else:\n",
    "    print(\"Mã OTP không hợp lệ.\")\n",
    "\n"
   ]
  },
  {
   "cell_type": "markdown",
   "metadata": {},
   "source": [
    "iv.  Chương trình mã hóa có obfurcasted code để tăng độ an toàn, tránh không cho người khác dò ra cách làm và giải mã."
   ]
  },
  {
   "cell_type": "code",
   "execution_count": 139,
   "metadata": {},
   "outputs": [
    {
     "name": "stdout",
     "output_type": "stream",
     "text": [
      "Password: 20127218\n",
      "Hashed Password: f3a72263955a4e4cbfc1188c1e15ac9ed74e74da34efa6befc9bd0ff28e2a34631991a0dca58bcb5686a60cd44d9c778ef94d71555fe663190e79bf491f1d01f\n",
      "Original Password: 20127218\n",
      "Hashed Password: f3a72263955a4e4cbfc1188c1e15ac9ed74e74da34efa6befc9bd0ff28e2a34631991a0dca58bcb5686a60cd44d9c778ef94d71555fe663190e79bf491f1d01f\n",
      "Encrypted Data: b'w\\x96\\xd7+\\x1f\\xb0\\xd2\\xcf\\xd29\\xe3w\\xdf\\xdavMC9\\xb3\\xc6|3\\xf8C<\\x10e\\x1fP\\xfaXqF\\xb7\\xea\\xf0\\x8e\\xf72\\xa3\\x1e\\xa6\\x97\\xc1c\\xa3\\x9d\\x8b\\x1c\\xa6s=\\xf7\\xb5K\\xe7>\\x01\\x97\\xb2\\xbc\\x86\\xe2A\\xa9Q\\xf5\\xb2\\xc0\\xe2\\xf3\\xf5\\xed<\\xb1F\\xd8>js\\x14\\xa4\\xbd\\xb5`\\x05\\x18\\xbd:^4\\x95E=\\xc7\\xdc\\xcc\\xa7#\\x01\\x7f7\\xc5\\xe3\\xa0\\xdc\\x19\\xa0\\xb8\\x11\\xdc\\x83~3b\\xf8\\x9e\\xe0o\\xb2\\xc0V\\x19\\xb2Ry\\xe9B\\xc5\\x9a\\x93\\xe9l\\xe8\\xdc\\x07S\\xf9$\\x0e\\xaf\\x92\\xd9\\xba'\n",
      "Decrypted Data: b'f3a72263955a4e4cbfc1188c1e15ac9ed74e74da34efa6befc9bd0ff28e2a34631991a0dca58bcb5686a60cd44d9c778ef94d71555fe663190e79bf491f1d01f'\n"
     ]
    }
   ],
   "source": [
    "import hashlib\n",
    "\n",
    "rf = open('readpassword.txt', 'r')\n",
    "ip = rf.read()\n",
    "rf.close()\n",
    "x = hashlib.sha512(ip.encode()).hexdigest()\n",
    "\n",
    "def pp(a, b):\n",
    "    print(\"Password:\", a)\n",
    "    print(\"Hashed Password:\", b)\n",
    "\n",
    "pp(ip, x)\n",
    "\n",
    "wf = open('encryptedpassword.txt', 'w')\n",
    "wf.write(x)\n",
    "wf.close()\n",
    "\n",
    "def p7(d, bs):\n",
    "    l = bs - len(d) % bs\n",
    "    p = bytes([l] * l)\n",
    "    return d + p\n",
    "\n",
    "def r7(d):\n",
    "    l = d[-1]\n",
    "    if not all(x == l for x in d[-l:]):\n",
    "        raise ValueError(\"Invalid\")\n",
    "    return d[:-l]\n",
    "\n",
    "from Crypto.Cipher import AES\n",
    "from Crypto.Random import get_random_bytes\n",
    "from Crypto.Util.Padding import pad, unpad\n",
    "\n",
    "# Khởi tạo khóa và IV (Initialization Vector)\n",
    "b = b'Meow'   # 128-bit key\n",
    "pk = p7 (b,16)\n",
    "\n",
    "iv = get_random_bytes(16)   # 128-bit IV\n",
    "d = x.encode()\n",
    "pd = p7 (d,16)\n",
    "\n",
    "# Create AES cipher\n",
    "c = AES.new(pk, AES.MODE_CBC, iv)\n",
    "\n",
    "# Encrypt\n",
    "q = c.encrypt(pd) \n",
    "\n",
    "# Decrypt\n",
    "dph = AES.new(pk, AES.MODE_CBC, iv)\n",
    "w = r7(dph.decrypt(q))\n",
    "\n",
    "print(\"Original Password:\", ip)\n",
    "print(\"Hashed Password:\", x)\n",
    "print(\"Encrypted Data:\", q)\n",
    "print(\"Decrypted Data:\", w)\n"
   ]
  }
 ],
 "metadata": {
  "kernelspec": {
   "display_name": "Python 3",
   "language": "python",
   "name": "python3"
  },
  "language_info": {
   "codemirror_mode": {
    "name": "ipython",
    "version": 3
   },
   "file_extension": ".py",
   "mimetype": "text/x-python",
   "name": "python",
   "nbconvert_exporter": "python",
   "pygments_lexer": "ipython3",
   "version": "3.9.0"
  }
 },
 "nbformat": 4,
 "nbformat_minor": 2
}
